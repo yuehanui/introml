{
 "cells": [
  {
   "cell_type": "markdown",
   "metadata": {
    "colab_type": "text",
    "id": "okgQCCkHoywI"
   },
   "source": [
    "# Model Selection In-Class Exercise\n",
    "\n",
    "In this example, you will a linear model to data and select the model order by model order selection.  First load the standard packages."
   ]
  },
  {
   "cell_type": "code",
   "execution_count": 3,
   "metadata": {
    "colab": {},
    "colab_type": "code",
    "id": "PNpSxz4ZoywK"
   },
   "outputs": [],
   "source": [
    "import numpy as np\n",
    "import matplotlib.pyplot as plt\n",
    "import pickle\n",
    "from sklearn.linear_model import LinearRegression\n",
    "from sklearn.model_selection import train_test_split"
   ]
  },
  {
   "cell_type": "markdown",
   "metadata": {
    "colab_type": "text",
    "id": "qV_kpz8koywO"
   },
   "source": [
    "## Load the Data\n",
    "\n",
    "The data in this exercise is completely synthetic.  You can load it with the following commmand."
   ]
  },
  {
   "cell_type": "code",
   "execution_count": 4,
   "metadata": {
    "colab": {},
    "colab_type": "code",
    "id": "jcsWD_KQoywP",
    "outputId": "02b6ac6f-523e-434c-e249-a23faf7784b0"
   },
   "outputs": [
    {
     "name": "stdout",
     "output_type": "stream",
     "text": [
      "File synth_data.p is already downloaded\n"
     ]
    }
   ],
   "source": [
    "fn_src = 'https://raw.githubusercontent.com/sdrangan/introml/master/unit04_model_sel/synth_data.p'\n",
    "fn_dst = 'synth_data.p'\n",
    "\n",
    "import os\n",
    "from six.moves import urllib\n",
    "\n",
    "if os.path.isfile(fn_dst):\n",
    "    print('File %s is already downloaded' % fn_dst)\n",
    "else:        \n",
    "    urllib.request.urlretrieve(fn_src, fn_dst)\n",
    "    print('File %s downloaded' % fn_dst)\n",
    "\n",
    "with open(fn_dst,'rb') as fp:\n",
    "    x,y = pickle.load(fp)"
   ]
  },
  {
   "cell_type": "markdown",
   "metadata": {
    "colab_type": "text",
    "id": "A1pl4tZDoywU"
   },
   "source": [
    "Plot the data `y` vs. `x` using a scatter plot. "
   ]
  },
  {
   "cell_type": "code",
   "execution_count": 8,
   "metadata": {
    "colab": {},
    "colab_type": "code",
    "id": "JXTCfEdVoywV"
   },
   "outputs": [
    {
     "data": {
      "text/plain": [
       "<matplotlib.collections.PathCollection at 0x7f8cdc690790>"
      ]
     },
     "execution_count": 8,
     "metadata": {},
     "output_type": "execute_result"
    },
    {
     "data": {
      "image/png": "[encoded data removed]",
      "text/plain": [
       "<Figure size 432x288 with 1 Axes>"
      ]
     },
     "metadata": {
      "needs_background": "light"
     },
     "output_type": "display_data"
    }
   ],
   "source": [
    "plt.scatter(x,y)"
   ]
  },
  {
   "cell_type": "markdown",
   "metadata": {
    "colab_type": "text",
    "id": "qMdo0iqroywY"
   },
   "source": [
    "## Fit the Data\n",
    "\n",
    "We will now try to fit the data.  First, split the data into training and test.  You can use the `train_test_split()` method in the `sklearn` package."
   ]
  },
  {
   "cell_type": "code",
   "execution_count": 24,
   "metadata": {
    "colab": {},
    "colab_type": "code",
    "id": "5_vV75MzoywY"
   },
   "outputs": [],
   "source": [
    "# TODO\n",
    "# xtr, xts, ytr, yts = train_test_split(...)\n",
    "xtr, xts, ytr, yts = train_test_split(x,y,test_size=0.3)"
   ]
  },
  {
   "cell_type": "markdown",
   "metadata": {
    "colab_type": "text",
    "id": "Pi2lYVmboywb"
   },
   "source": [
    "Now try to fit a linear model to the data.  You can pick any linear model with a variable number `d` of basis functions.  For example, you can use the polynomials up to degree `d-1`.  \n",
    "\n",
    "For each model order `d`:\n",
    "* Fit the model on the training data\n",
    "* Test the model on the test data\n",
    "\n",
    "Plot the test error vs. `d`.  Select the model order `dopt` with the lowest test error."
   ]
  },
  {
   "cell_type": "code",
   "execution_count": 25,
   "metadata": {
    "colab": {},
    "colab_type": "code",
    "id": "6hhCAy6Eo4Gf"
   },
   "outputs": [
    {
     "data": {
      "text/plain": [
       "Text(0, 0.5, 'Error')"
      ]
     },
     "execution_count": 25,
     "metadata": {},
     "output_type": "execute_result"
    },
    {
     "data": {
      "image/png": "[encoded data removed]",
      "text/plain": [
       "<Figure size 432x288 with 1 Axes>"
      ]
     },
     "metadata": {
      "needs_background": "light"
     },
     "output_type": "display_data"
    }
   ],
   "source": [
    "# TODO\n",
    "import numpy.polynomial.polynomial as poly\n",
    "\n",
    "d_list = np.array(range(1,10))\n",
    "RSStest=[]\n",
    "\n",
    "for d in d_list:\n",
    "    beta_hat = poly.polyfit(xtr,ytr,d)\n",
    "    \n",
    "    y_hat = poly.polyval(xts,beta_hat)\n",
    "    RSS = np.mean((y_hat - yts)**2)\n",
    "    RSStest.append(RSS)\n",
    "    \n",
    "plt.plot(d_list, RSStest, '-o')\n",
    "plt.xlabel('degree')\n",
    "plt.ylabel(\"Error\")\n",
    "\n",
    "\n",
    "    "
   ]
  },
  {
   "cell_type": "markdown",
   "metadata": {
    "colab_type": "text",
    "id": "IiAiaNoco6QH"
   },
   "source": [
    "Select the optimal model order `dopt`.  Re-train the model for that model order.  On one plot:\n",
    "* Plot the predicted value `yhat` vs. `x` for your model for `x in [0,35]`\n",
    "* Plot a scatter plot of the test data `xts` vs. `yts`\n",
    "\n",
    "Does your model fit the test data well?\n",
    "Does it extrapolate reasonably in the range `x >= 30`?"
   ]
  },
  {
   "cell_type": "code",
   "execution_count": 42,
   "metadata": {
    "colab": {},
    "colab_type": "code",
    "id": "GNtzaacQpEHA"
   },
   "outputs": [
    {
     "data": {
      "text/plain": [
       "<matplotlib.collections.PathCollection at 0x7f8cde3e3e20>"
      ]
     },
     "execution_count": 42,
     "metadata": {},
     "output_type": "execute_result"
    },
    {
     "data": {
      "image/png": "[encoded data removed]",
      "text/plain": [
       "<Figure size 432x288 with 1 Axes>"
      ]
     },
     "metadata": {
      "needs_background": "light"
     },
     "output_type": "display_data"
    }
   ],
   "source": [
    "# TODO\n",
    "dopt = 6\n",
    "beta_hat = poly.polyfit(xtr,ytr,dopt)\n",
    "xline = np.linspace(0,35,100)\n",
    "y_hat = poly.polyval(xline,beta_hat)\n",
    "plt.xlim([0,35])\n",
    "plt.plot(xline, y_hat, '-')\n",
    "plt.scatter(xts,yts)\n",
    "\n"
   ]
  },
  {
   "cell_type": "code",
   "execution_count": 0,
   "metadata": {
    "colab": {},
    "colab_type": "code",
    "id": "w4YprWBPpe_c"
   },
   "outputs": [],
   "source": []
  }
 ],
 "metadata": {
  "colab": {
   "name": "model_sel_inclass.ipynb",
   "provenance": [],
   "version": "0.3.2"
  },
  "kernelspec": {
   "display_name": "Python 3",
   "language": "python",
   "name": "python3"
  },
  "language_info": {
   "codemirror_mode": {
    "name": "ipython",
    "version": 3
   },
   "file_extension": ".py",
   "mimetype": "text/x-python",
   "name": "python",
   "nbconvert_exporter": "python",
   "pygments_lexer": "ipython3",
   "version": "3.8.3"
  }
 },
 "nbformat": 4,
 "nbformat_minor": 1
}
