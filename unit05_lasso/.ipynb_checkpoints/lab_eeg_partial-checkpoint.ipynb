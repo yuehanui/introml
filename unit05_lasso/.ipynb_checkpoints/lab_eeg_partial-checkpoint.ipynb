{
 "cells": [
  {
   "cell_type": "markdown",
   "metadata": {},
   "source": [
    "# Lab:  Source Localization for EEG\n",
    "\n",
    "EEG or [Electroencephalography](https://en.wikipedia.org/wiki/Electroencephalography) is a powerful tool for neuroscientists in understanding brain activity.  In EEG, a patient wears a headset with electrodes that measures voltages at a number of points on the scalp.  These voltages arise from ionic currents within the brain.  A common *inverse problem* is to estimate the which parts of the brain caused the measured response.  Source localization is useful in understanding which parts of the brain are involved in certain tasks.  A key challenge in this inverse problem is that the number of unknowns (possible locations in the brain) is much larger than the number of measurements.  In this lab, we will use LASSO regression on a real EEG dataset to overcome this problem and determine the brain region that is active under an auditory stimulus.\n",
    "\n",
    "In addition to the concepts in the [prostate LASSO demo](./demo_prostate.ipynb) you will learn to:\n",
    "* Represent responses of multi-channel time-series data, such as EEG, using linear models\n",
    "* Perform LASSO and Ridge regression\n",
    "* Select the regularization level via cross-validation\n",
    "* Visually compare the sparsity between the solutions\n",
    "\n",
    "We first download standard packages."
   ]
  },
  {
   "cell_type": "code",
   "execution_count": 1,
   "metadata": {},
   "outputs": [],
   "source": [
    "import numpy as np\n",
    "import matplotlib.pyplot as plt\n",
    "import pickle\n",
    "\n",
    "from sklearn.linear_model import Lasso, Ridge, ElasticNet\n",
    "from sklearn.metrics import r2_score\n",
    "from sklearn.model_selection import train_test_split"
   ]
  },
  {
   "cell_type": "markdown",
   "metadata": {},
   "source": [
    "## Load the Data\n",
    "\n",
    "The data in this lab is taken from one of the sample datasets in the [MNE website](https://martinos.org/mne/stable/index.html). The sample data is a recording from one subject who experienced some auditory stimulus on the left ear.    \n",
    "\n",
    "The raw data is very large (`1.5G`) and also requires that you install the `mne` python package. To make this lab easier, I have extracted and processed a small section of the data. The following command will download a `pickle` file `eeg_dat.p` to your local machine.  If you do want to create the data yourself, the program to create the data is in this directory in the github repository."
   ]
  },
  {
   "cell_type": "code",
   "execution_count": 2,
   "metadata": {},
   "outputs": [
    {
     "name": "stdout",
     "output_type": "stream",
     "text": [
      "File eeg_dat.p is already downloaded\n"
     ]
    }
   ],
   "source": [
    "fn_src ='https://drive.google.com/uc?export=download&id=1RzQpKONOcXSMxH2ZzOI4iVMiTgD6ttSl'\n",
    "fn_dst ='eeg_dat.p'\n",
    "\n",
    "import os\n",
    "from six.moves import urllib\n",
    "\n",
    "if os.path.isfile(fn_dst):\n",
    "    print('File %s is already downloaded' % fn_dst)\n",
    "else:        \n",
    "    print('Fetching file %s [53MB].  This may take a minute..' % fn_dst)\n",
    "    urllib.request.urlretrieve(fn_src, fn_dst)\n",
    "    print('File %s downloaded' % fn_dst)"
   ]
  },
  {
   "cell_type": "markdown",
   "metadata": {},
   "source": [
    "Now run the following command which will get the data from the `pickle` file."
   ]
  },
  {
   "cell_type": "code",
   "execution_count": 3,
   "metadata": {},
   "outputs": [],
   "source": [
    "import pickle\n",
    "fn = 'eeg_dat.p'\n",
    "with open(fn, 'rb') as fp:\n",
    "    [X,Y] = pickle.load(fp)"
   ]
  },
  {
   "cell_type": "markdown",
   "metadata": {},
   "source": [
    "To understand the data, there are three key variables:\n",
    "* `nt`    = number of time steps that we measure data\n",
    "* `nchan` = number of channels (i.e. electrodes) measured in each time step\n",
    "* `ncur`  = number of currents in the brain that we want to estimate.  \n",
    "\n",
    "Each current comes from one brain region (called a *voxel*) in either the `x`, `y` or `z` direction.  So,\n",
    "\n",
    "    nvoxels = ncur / 3\n",
    "    \n",
    "The components of the `X` and `Y` matrices are:\n",
    "*  `Y[i,k]` = electric field measurement on channel `i` at time `k`\n",
    "*  `X[i,j]` = sensitivity of channel `i` to current `j`.\n",
    "\n",
    "Using `X.shape` and `Y.shape` compute and print `nt`, `nchan`, `ncur` and `nvoxels`."
   ]
  },
  {
   "cell_type": "code",
   "execution_count": 4,
   "metadata": {},
   "outputs": [],
   "source": [
    "# TODO\n",
    "nt = Y.shape[1] \n",
    "ncur = X.shape[1]\n",
    "nchan = Y.shape[0]\n",
    "nvoxels = ncur // 3"
   ]
  },
  {
   "cell_type": "markdown",
   "metadata": {},
   "source": [
    "## Ridge Regression\n",
    "\n",
    "Our goal is to estimate the currents in the brain from the measurements `Y`.  One simple linear model is:\n",
    "\n",
    "    Y[i,k]  = \\sum_j X[i,j]*W[j,k]+ b[k]\n",
    "\n",
    "where `W[j,k]` is the value of current `j` at time `k` and `b[k]` is a bias.  We can solve for the current matrix `W` via linear regression.  \n",
    "\n",
    "Howeever, there is a problem:\n",
    "*  There are `nt x ncur` unknowns in `W`\n",
    "*  There are only `nt x nchan` measurements in `Y`.\n",
    "\n",
    "In this problem, we have:\n",
    "\n",
    "    number of measurements  << number of unknowns\n",
    "    \n",
    "We need to use regularization in these circumstances.  We first try Ridge regression.\n",
    "\n",
    "First split the data into training and test.  Use the `train_test_split` function with `test_size=0.33`."
   ]
  },
  {
   "cell_type": "code",
   "execution_count": 21,
   "metadata": {},
   "outputs": [],
   "source": [
    "# TODO\n",
    "Xtr,Xts,Ytr,Yts = train_test_split(X, Y, test_size=0.33) "
   ]
  },
  {
   "cell_type": "markdown",
   "metadata": {},
   "source": [
    "Use the `Ridge` regression object in `sklearn` to fit the model on the training data.  Use a regularization, `alpha=1`."
   ]
  },
  {
   "cell_type": "code",
   "execution_count": 22,
   "metadata": {},
   "outputs": [
    {
     "data": {
      "text/plain": [
       "Ridge(alpha=1)"
      ]
     },
     "execution_count": 22,
     "metadata": {},
     "output_type": "execute_result"
    }
   ],
   "source": [
    "# TODO\n",
    "from sklearn.preprocessing import StandardScaler\n",
    "\n",
    "\n",
    "alpha = 1\n",
    "regr = Ridge(alpha=alpha)\n",
    "\n",
    "\n",
    "regr.fit(Xtr, Ytr)\n"
   ]
  },
  {
   "cell_type": "markdown",
   "metadata": {},
   "source": [
    "Preict the values `Y` on both the training and test data.  Use the `r2_score` method to measure the `R^2` value on both the training and test.  You will see that `R^2` value is large for the training data, it is very low for the test data.  This suggest that even with regularization, the model is over-fitting the data."
   ]
  },
  {
   "cell_type": "code",
   "execution_count": 23,
   "metadata": {},
   "outputs": [
    {
     "name": "stdout",
     "output_type": "stream",
     "text": [
      "The R^2 of the traing data is 0.6080083597470932\n",
      "The R^2 of the test data is 0.10107248458250785\n"
     ]
    }
   ],
   "source": [
    "# TODO\n",
    "\n",
    "\n",
    "\n",
    "Ytr_hat = regr.predict(Xtr)\n",
    "Yts_hat = regr.predict(Xts)\n",
    "rsq_tr = r2_score(Ytr, Ytr_hat)\n",
    "rsq_ts = r2_score(Yts, Yts_hat)\n",
    "print(f\"The R^2 of the traing data is {rsq_tr}\")\n",
    "print(f\"The R^2 of the test data is {rsq_ts}\")"
   ]
  },
  {
   "cell_type": "markdown",
   "metadata": {},
   "source": [
    "Next, try to see if we can get a better `R^2` score using different values of `alpha`.  Use cross-validation to measure the test `R^2` for 20 `alpha` values logarithmically spaced from `10^{-2}` to `10^{2}` (use `np.logspace()`).  You can use regular cross-validation.  You do not need to do `K`-fold."
   ]
  },
  {
   "cell_type": "code",
   "execution_count": 24,
   "metadata": {},
   "outputs": [
    {
     "name": "stdout",
     "output_type": "stream",
     "text": [
      "Fold = 0\n",
      "Fold = 1\n",
      "Fold = 2\n",
      "Fold = 3\n",
      "Fold = 4\n",
      "Fold = 5\n",
      "Fold = 6\n",
      "Fold = 7\n",
      "Fold = 8\n",
      "Fold = 9\n",
      "Finished\n"
     ]
    }
   ],
   "source": [
    "# TODO\n",
    "\n",
    "\n",
    "# Create cross-validation object\n",
    "from sklearn.model_selection import KFold\n",
    "nfold = 10\n",
    "kf = KFold(nfold, shuffle=True)\n",
    "\n",
    "alphas_ridge = np.logspace(-2,2,20)\n",
    "\n",
    "nalphas = len(alphas_ridge)\n",
    "\n",
    "rsq = np.zeros((nalphas, nfold))\n",
    "for ifold, ind in enumerate(kf.split(X)):\n",
    "    \n",
    "    # split\n",
    "    Itr, Its = ind\n",
    "    Xtr = X[Itr,:]\n",
    "    Ytr = Y[Itr,:]\n",
    "    Xts = X[Its,:]\n",
    "    Yts = Y[Its,:]\n",
    "    \n",
    "\n",
    "    \n",
    "    for i, alpha in enumerate(alphas_ridge):\n",
    "        \n",
    "        # Fit on the training data\n",
    "        regr = Ridge(alpha=alpha)\n",
    "        regr.fit(Xtr, Ytr)\n",
    "        \n",
    "        # Score on the test data\n",
    "        Yhat = regr.predict(Xts)\n",
    "        rsq[i,ifold] = r2_score(Yts, Yhat)\n",
    "    \n",
    "    print(f\"Fold = {ifold}\")\n",
    "    \n",
    "print(\"Finished\")\n",
    "    \n",
    "\n",
    "#Compute mean and SE\n",
    "rsq_ridge_mean = np.mean(rsq,axis=1)\n",
    "rsq_ridge_SE = np.std(rsq,axis=1)/ np.sqrt(nfold-1)\n",
    "    \n",
    "    "
   ]
  },
  {
   "cell_type": "markdown",
   "metadata": {},
   "source": [
    "Plot the test `R^2` vs. `alpha`.  And print the maximum test `R^2`.  You should see that the maximum test `R^2` is still not very high."
   ]
  },
  {
   "cell_type": "code",
   "execution_count": 25,
   "metadata": {},
   "outputs": [
    {
     "data": {
      "image/png": "[encoded data removed]",
      "text/plain": [
       "<Figure size 432x288 with 1 Axes>"
      ]
     },
     "metadata": {
      "needs_background": "light"
     },
     "output_type": "display_data"
    },
    {
     "name": "stdout",
     "output_type": "stream",
     "text": [
      "The maximum test R^2 is 0.21599560182938524\n"
     ]
    }
   ],
   "source": [
    "# TODO\n",
    "plt.errorbar(np.log10(alphas_ridge), rsq_ridge_mean,yerr=rsq_ridge_SE)\n",
    "plt.xlabel('log10(alpha)')\n",
    "plt.ylabel('Test R^2')\n",
    "plt.grid()\n",
    "plt.show()\n",
    "\n",
    "max_ridge_rsq = np.max(rsq_ridge_mean)\n",
    "print(f\"The maximum test R^2 is {max_ridge_rsq}\")"
   ]
  },
  {
   "cell_type": "markdown",
   "metadata": {},
   "source": [
    "Now, let's take a look at the solution. \n",
    "\n",
    "* Find the optimal regularization `alpha` from the cross-validation\n",
    "* Re-fit the model at the optimal `alpha`\n",
    "* Get the current matrix `W` from the coefficients in the linear model.  These are stored in `regr.coef_`.  You may need a transpose\n",
    "* For each current `j` compute `Wrms[j] =  sqrt( sum_k W[j,k]**2 )` which is root mean squared current.\n",
    "\n",
    "You will see that the vector `Wrms` is not sparse.  This means that the solution that is found with Ridge regression finds currents in all locations."
   ]
  },
  {
   "cell_type": "code",
   "execution_count": 26,
   "metadata": {},
   "outputs": [
    {
     "name": "stdout",
     "output_type": "stream",
     "text": [
      "The optimal regularization `alpha` from the cross-validation is 0.4832930238571752\n"
     ]
    },
    {
     "data": {
      "text/plain": [
       "<StemContainer object of 3 artists>"
      ]
     },
     "execution_count": 26,
     "metadata": {},
     "output_type": "execute_result"
    },
    {
     "data": {
      "image/png": "[encoded data removed]",
      "text/plain": [
       "<Figure size 432x288 with 1 Axes>"
      ]
     },
     "metadata": {
      "needs_background": "light"
     },
     "output_type": "display_data"
    }
   ],
   "source": [
    "# TODO\n",
    "\n",
    "## get the optimal alpha\n",
    "op_alpha = alphas_ridge[np.argmax(rsq_ridge_mean)]\n",
    "print(f\"The optimal regularization `alpha` from the cross-validation is {op_alpha}\")\n",
    "\n",
    "## re-fit the model at the optimal `alpha`\n",
    "regr = Ridge(alpha=op_alpha)\n",
    "\n",
    "regr.fit(X,Y)\n",
    "\n",
    "## get the coefficients\n",
    "\n",
    "W = np.transpose(regr.coef_)\n",
    "\n",
    "Wrms = np.sum(W**2,axis=1)\n",
    "\n",
    "# plot\n",
    "\n",
    "plt.stem(Wrms, use_line_collection=True)\n",
    "\n"
   ]
  },
  {
   "cell_type": "markdown",
   "metadata": {},
   "source": [
    "## LASSO Regression\n",
    "\n",
    "We can improve the estimate by imposing sparsity.  Biologically, we know that only a limited number of brain regions should be involved in the reponse to a particular stimuli.  As a result, we would expect that the current matrix `W[j,k]` to be zero for most values `j,k`.  We can impose this constraint using LASSO regularization.\n",
    "\n",
    "Re-fit the training data using the `Lasso` model with `alpha=1e-3`.  Also set `max_iter=100` and `tol=0.01`.  The LASSO solver is much slower, so this make take a minute."
   ]
  },
  {
   "cell_type": "code",
   "execution_count": 29,
   "metadata": {},
   "outputs": [
    {
     "name": "stdout",
     "output_type": "stream",
     "text": [
      "Finished\n"
     ]
    }
   ],
   "source": [
    "# TODO\n",
    "# split\n",
    "Xtr,Xts,Ytr,Yts = train_test_split(X, Y, test_size=0.33) \n",
    "\n",
    "# Lasso\n",
    "alpha = 1e-3\n",
    "regr = Lasso(alpha=alpha, max_iter=100, tol=0.01)\n",
    "\n",
    "regr.fit(Xtr, Ytr)\n",
    "print(\"Finished\")\n"
   ]
  },
  {
   "cell_type": "markdown",
   "metadata": {},
   "source": [
    "Now, test the model on the test data and measure the `R^2` value.  You should get a much better fit than with the Ridge regression solution.  "
   ]
  },
  {
   "cell_type": "code",
   "execution_count": 30,
   "metadata": {},
   "outputs": [
    {
     "name": "stdout",
     "output_type": "stream",
     "text": [
      "The R^2 of test data using Lasso is 0.14989093865127498\n"
     ]
    }
   ],
   "source": [
    "# TODO\n",
    "\n",
    "Yts_hat = regr.predict(Xts)\n",
    "rsq = r2_score(Yts, Yts_hat)\n",
    "print(f\"The R^2 of test data using Lasso is {rsq}\")"
   ]
  },
  {
   "cell_type": "markdown",
   "metadata": {},
   "source": [
    "We can now search for the optimal `alpha`.  Use cross-validation to find the `alpha` logarithically space between `alpha=10^{-3}` and `alpha=10^{-4}`.  Each fit takes some time, so use only 5 values of `alpha`. Also for each `alpha` store the current matrix.  This way, you will not have to re-fit the model."
   ]
  },
  {
   "cell_type": "code",
   "execution_count": 31,
   "metadata": {},
   "outputs": [
    {
     "name": "stdout",
     "output_type": "stream",
     "text": [
      "set 0\n",
      "set 1\n",
      "set 2\n",
      "set 3\n",
      "set 4\n",
      "Finished\n"
     ]
    }
   ],
   "source": [
    "# TODO\n",
    "# Create cross-validation object\n",
    "\n",
    "\n",
    "alphas_lasso = np.logspace(-4,-3,5)\n",
    "\n",
    "nalphas = len(alphas_lasso)\n",
    "\n",
    "rsq = np.zeros(nalphas)\n",
    "matrix = []\n",
    "\n",
    "\n",
    "# split\n",
    "Xtr,Xts,Ytr,Yts = train_test_split(X, Y, test_size=0.33) \n",
    "\n",
    "\n",
    "for i, alpha in enumerate(alphas_lasso):\n",
    "\n",
    "    # Fit on the training data\n",
    "    regr = Lasso(alpha=alpha, max_iter=100, tol=0.01)\n",
    "    regr.fit(Xtr, Ytr)\n",
    "\n",
    "    # Score on the test data\n",
    "    Yhat = regr.predict(Xts)\n",
    "    rsq[i] = r2_score(Yts, Yhat)\n",
    "    \n",
    "    matrix.append(np.transpose(regr.coef_))\n",
    "\n",
    "    print(f\"set {i}\")\n",
    "\n",
    "print(\"Finished\")\n",
    "    \n",
    "\n",
    "\n",
    "    "
   ]
  },
  {
   "cell_type": "markdown",
   "metadata": {},
   "source": [
    "Plot the `r^2` value vs. `alpha`.  Print the optimal `r^2`.  You should see it is much higher than with the best Ridge Regression case."
   ]
  },
  {
   "cell_type": "code",
   "execution_count": 32,
   "metadata": {},
   "outputs": [
    {
     "data": {
      "image/png": "[encoded data removed]",
      "text/plain": [
       "<Figure size 432x288 with 1 Axes>"
      ]
     },
     "metadata": {
      "needs_background": "light"
     },
     "output_type": "display_data"
    },
    {
     "name": "stdout",
     "output_type": "stream",
     "text": [
      "The maximum test R^2 is 0.28856419776572934\n"
     ]
    }
   ],
   "source": [
    "# TODO\n",
    "plt.plot(np.log10(alphas_lasso), rsq)\n",
    "plt.xlabel('log10(alpha)')\n",
    "plt.ylabel('Test R^2')\n",
    "plt.grid()\n",
    "plt.show()\n",
    "\n",
    "max_lasso_rsq = np.max(rsq)\n",
    "print(f\"The maximum test R^2 is {max_lasso_rsq}\")"
   ]
  },
  {
   "cell_type": "markdown",
   "metadata": {},
   "source": [
    "Display the current matrix `W` for the optimal `alpha` as you did in the Ridge Regression case.  You will see that is much sparser."
   ]
  },
  {
   "cell_type": "code",
   "execution_count": 33,
   "metadata": {},
   "outputs": [
    {
     "data": {
      "text/plain": [
       "<StemContainer object of 3 artists>"
      ]
     },
     "execution_count": 33,
     "metadata": {},
     "output_type": "execute_result"
    },
    {
     "data": {
      "image/png": "[encoded data removed]",
      "text/plain": [
       "<Figure size 432x288 with 1 Axes>"
      ]
     },
     "metadata": {
      "needs_background": "light"
     },
     "output_type": "display_data"
    }
   ],
   "source": [
    "# TODO\n",
    "W = matrix[np.argmax(rsq)]\n",
    "Wrms = np.sum(W**2,axis=1)\n",
    "# plot\n",
    "\n",
    "plt.stem(Wrms, use_line_collection=True)\n"
   ]
  },
  {
   "cell_type": "markdown",
   "metadata": {},
   "source": [
    "## More fun\n",
    "\n",
    "If you want to more on this lab:\n",
    "* Install the [MNE python package](https://martinos.org/mne/stable/index.html).  This is an amazing package with many tools for processing EEG data.\n",
    "* In particular, you can use the above results to visualize where in the brain the currents sources are.\n",
    "* You can also improve the fitting with more regularization.  For example, we know that the currents will be non-zero in groups:  If the current is non-zero for one time, it is likely to non-zero for all time.  You can use the Group LASSO method.\n",
    "* You can combine these results to make predictions about what the patient is seeing or hearing or thinking."
   ]
  },
  {
   "cell_type": "code",
   "execution_count": null,
   "metadata": {},
   "outputs": [],
   "source": []
  }
 ],
 "metadata": {
  "kernelspec": {
   "display_name": "Python 3",
   "language": "python",
   "name": "python3"
  },
  "language_info": {
   "codemirror_mode": {
    "name": "ipython",
    "version": 3
   },
   "file_extension": ".py",
   "mimetype": "text/x-python",
   "name": "python",
   "nbconvert_exporter": "python",
   "pygments_lexer": "ipython3",
   "version": "3.8.3"
  }
 },
 "nbformat": 4,
 "nbformat_minor": 2
}
